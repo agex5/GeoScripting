{
 "metadata": {
  "name": "",
  "signature": "sha256:5f6ddc80598187ae0cd9a4b31ba3abeb629d5c35e740f578e79b524b26505825"
 },
 "nbformat": 3,
 "nbformat_minor": 0,
 "worksheets": [
  {
   "cells": [
    {
     "cell_type": "heading",
     "level": 1,
     "metadata": {},
     "source": [
      "TheScriptLadies Nadine Drigo and Amy Gex\n",
      "24 Jan 2017"
     ]
    },
    {
     "cell_type": "heading",
     "level": 4,
     "metadata": {},
     "source": [
      "Modules to import"
     ]
    },
    {
     "cell_type": "code",
     "collapsed": false,
     "input": [
      "import os\n",
      "import urllib\n",
      "import tarfile\n",
      "import subprocess\n",
      "from osgeo import gdal\n",
      "from osgeo.gdalconst import GA_ReadOnly, GDT_Float32\n",
      "import numpy as np"
     ],
     "language": "python",
     "metadata": {},
     "outputs": [],
     "prompt_number": 1
    },
    {
     "cell_type": "heading",
     "level": 4,
     "metadata": {},
     "source": [
      "Set Your Directory "
     ]
    },
    {
     "cell_type": "code",
     "collapsed": false,
     "input": [
      "os.getcwd()\n",
      "os.chdir(\"/home/ubuntu/Python/Lesson12/assignment\")"
     ],
     "language": "python",
     "metadata": {},
     "outputs": [],
     "prompt_number": 2
    },
    {
     "cell_type": "heading",
     "level": 4,
     "metadata": {},
     "source": [
      "Download and unzip the file "
     ]
    },
    {
     "cell_type": "code",
     "collapsed": false,
     "input": [
      "file_url = \"https://www.dropbox.com/s/zb7nrla6fqi1mq4/LC81980242014260-SC20150123044700.tar.gz?dl=1\"\n",
      "urllib.urlretrieve(file_url, \"LC81980242014260-SC20150123044700.tar.gz\")\n",
      "t=tarfile.open(name =\"LC81980242014260-SC20150123044700.tar.gz\", mode= 'r' )\n",
      "t.extractall(\"data\")"
     ],
     "language": "python",
     "metadata": {},
     "outputs": [],
     "prompt_number": 3
    },
    {
     "cell_type": "heading",
     "level": 4,
     "metadata": {},
     "source": [
      "Select input bands and output file name"
     ]
    },
    {
     "cell_type": "code",
     "collapsed": false,
     "input": [
      "fnband4 = \"./data/LC81980242014260LGN00_sr_band4.tif\"\n",
      "fnband5 = \"./data/LC81980242014260LGN00_sr_band5.tif\"\n",
      "fnoutput = './data/NDWI.tif'"
     ],
     "language": "python",
     "metadata": {},
     "outputs": [],
     "prompt_number": 4
    },
    {
     "cell_type": "heading",
     "level": 4,
     "metadata": {},
     "source": [
      "Function to open the selected bands and transform in array"
     ]
    },
    {
     "cell_type": "code",
     "collapsed": false,
     "input": [
      "def setfile(filename):\n",
      "    filen = filename\n",
      "    band = gdal.Open(filen, GA_ReadOnly)\n",
      "    band_arr =  band.ReadAsArray(0,0,band.RasterXSize, band.RasterYSize)\n",
      "    band_arrFl = band_arr.astype(np.float32) \n",
      "    return(band_arrFl)\n",
      "  \n",
      "band4 = setfile(fnband4)\n",
      "band5 = setfile(fnband5) "
     ],
     "language": "python",
     "metadata": {},
     "outputs": [],
     "prompt_number": 5
    },
    {
     "cell_type": "heading",
     "level": 4,
     "metadata": {},
     "source": [
      "Function to calculate NDWI"
     ]
    },
    {
     "cell_type": "code",
     "collapsed": false,
     "input": [
      "def ndwi(band4, band5):\n",
      "    mask = np.greater(band4+band5,0)\n",
      "    with np.errstate(invalid='ignore'):\n",
      "        ndwi = np.choose(mask,(-99,(band4 - band5) / (band4 + band5)))\n",
      "        return(ndwi)\n",
      "\n",
      "NDWI = ndwi(band4, band5)    \n",
      "\n",
      " \n",
      "    \n",
      "#write the file\n",
      "\n",
      " "
     ],
     "language": "python",
     "metadata": {},
     "outputs": [
      {
       "output_type": "stream",
       "stream": "stderr",
       "text": [
        "-c:4: RuntimeWarning: divide by zero encountered in divide\n"
       ]
      }
     ],
     "prompt_number": 6
    },
    {
     "cell_type": "heading",
     "level": 4,
     "metadata": {},
     "source": [
      "Write the output in a .tif file"
     ]
    },
    {
     "cell_type": "code",
     "collapsed": false,
     "input": [
      "def write_file(band, sourceN):\n",
      "    source = gdal.Open(sourceN, GA_ReadOnly)\n",
      "    driver = gdal.GetDriverByName('GTiff') \n",
      "    outPut=driver.Create(fnoutput, source.RasterXSize, source.RasterYSize, 1, GDT_Float32)\n",
      "    outFile = outPut.GetRasterBand(1)    \n",
      "    outFile.WriteArray(band,0,0)\n",
      "    outFile.SetNoDataValue(-99) \n",
      "    outPut.SetProjection(source.GetProjection()) \n",
      "    outPut.SetGeoTransform(source.GetGeoTransform())\n",
      "\n",
      "\n",
      "write_file(NDWI, fnband4)"
     ],
     "language": "python",
     "metadata": {},
     "outputs": [],
     "prompt_number": 7
    },
    {
     "cell_type": "heading",
     "level": 3,
     "metadata": {},
     "source": [
      "Reproject to lat/long WGS84"
     ]
    },
    {
     "cell_type": "code",
     "collapsed": false,
     "input": [
      "subprocess.call([\"gdalwarp\", \"-t_srs\", \"EPSG:4326\", \"/home/ubuntu/Python/Lesson12/assignment/data/NDWI.tif\", \"/home/ubuntu/Python/Lesson12/assignment/data/NDWI_WGS84.tif\"])"
     ],
     "language": "python",
     "metadata": {},
     "outputs": [
      {
       "metadata": {},
       "output_type": "pyout",
       "prompt_number": 9,
       "text": [
        "0"
       ]
      }
     ],
     "prompt_number": 9
    },
    {
     "cell_type": "code",
     "collapsed": false,
     "input": [],
     "language": "python",
     "metadata": {},
     "outputs": []
    }
   ],
   "metadata": {}
  }
 ]
}