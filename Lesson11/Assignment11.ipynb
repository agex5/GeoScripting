{
 "metadata": {
  "name": "",
  "signature": "sha256:9679fca7a8ba32de9f6aef83e05b7366f99cdc509d855f096e762777998cb56a"
 },
 "nbformat": 3,
 "nbformat_minor": 0,
 "worksheets": [
  {
   "cells": [
    {
     "cell_type": "heading",
     "level": 1,
     "metadata": {},
     "source": [
      "TScriptLadies Nadine Drigo and Amy Gex\n",
      "23 Jan 2017\n"
     ]
    },
    {
     "cell_type": "heading",
     "level": 4,
     "metadata": {},
     "source": [
      "Import libraries"
     ]
    },
    {
     "cell_type": "code",
     "collapsed": false,
     "input": [
      "import os \n",
      "from osgeo import ogr, osr\n",
      "import folium\n",
      "import simplekml"
     ],
     "language": "python",
     "metadata": {},
     "outputs": [],
     "prompt_number": 1
    },
    {
     "cell_type": "heading",
     "level": 4,
     "metadata": {},
     "source": [
      "Define data directory and create if it doesn\u00b4t exist. Then change the working directory"
     ]
    },
    {
     "cell_type": "code",
     "collapsed": false,
     "input": [
      "path = r'./data'\n",
      "if not os.path.exists(path):\n",
      "    os.makedirs(path)\n",
      "    \n",
      "os.chdir('./data')"
     ],
     "language": "python",
     "metadata": {},
     "outputs": [],
     "prompt_number": 2
    },
    {
     "cell_type": "heading",
     "level": 4,
     "metadata": {},
     "source": [
      "Check Driver"
     ]
    },
    {
     "cell_type": "code",
     "collapsed": false,
     "input": [
      "drivN = \"ESRI Shapefile\"\n",
      "drv = ogr.GetDriverByName( drivN)"
     ],
     "language": "python",
     "metadata": {},
     "outputs": [],
     "prompt_number": 3
    },
    {
     "cell_type": "heading",
     "level": 4,
     "metadata": {},
     "source": [
      "Create file name and layer"
     ]
    },
    {
     "cell_type": "code",
     "collapsed": false,
     "input": [
      "fn = \"WageningenPoints.shp\" \n",
      "layername = \"Waglayer\""
     ],
     "language": "python",
     "metadata": {},
     "outputs": [],
     "prompt_number": 4
    },
    {
     "cell_type": "heading",
     "level": 4,
     "metadata": {},
     "source": [
      "Points from Google Earth"
     ]
    },
    {
     "cell_type": "code",
     "collapsed": false,
     "input": [
      "pts = [(5.665948,51.987635),\n",
      "        (5.662841,51.964904)]"
     ],
     "language": "python",
     "metadata": {},
     "outputs": [],
     "prompt_number": 5
    },
    {
     "cell_type": "heading",
     "level": 4,
     "metadata": {},
     "source": [
      "Function to create a shapefile and kml file with points list created above"
     ]
    },
    {
     "cell_type": "code",
     "collapsed": false,
     "input": [
      "def create_shp_kml(points, layername,fn):\n",
      "    spatialReference = osr.SpatialReference()\n",
      "    spatialReference.ImportFromEPSG(4326)\n",
      "    \n",
      "    ds = drv.CreateDataSource(fn)\n",
      "    \n",
      "    layer=ds.CreateLayer(layername, spatialReference, ogr.wkbPoint)\n",
      "    layerDef = layer.GetLayerDefn()\n",
      "    \n",
      "    point = ogr.Geometry(ogr.wkbPoint)\n",
      "    feature = ogr.Feature(layerDef)\n",
      "    kml = simplekml.Kml()\n",
      "    i=0\n",
      "    for value in points:\n",
      "        point.SetPoint(0, value[0], value[1])\n",
      "        feature.SetGeometry(point)\n",
      "        layer.CreateFeature(feature)\n",
      "        kml.newpoint(name=str(i), coords = [(value[0],value[1])])\n",
      "        i+=1\n",
      "    ds.Destroy()\n",
      "    kml.save(\"scriptladieskml.kml\")\n",
      "    \n",
      "#call the function   \n",
      "create_shp_kml(pts, layername,fn)\n",
      "\n"
     ],
     "language": "python",
     "metadata": {},
     "outputs": [],
     "prompt_number": 6
    },
    {
     "cell_type": "heading",
     "level": 4,
     "metadata": {},
     "source": [
      "Run the following code in the terminal to convert the shapefile to geoJSON (remember to set directory):\n",
      "\n",
      "ogr2ogr -f GeoJSON -t_srs crs:84 WageningenPoints.geojson WageningenPoints.shp"
     ]
    },
    {
     "cell_type": "heading",
     "level": 4,
     "metadata": {},
     "source": [
      "Create a map"
     ]
    },
    {
     "cell_type": "code",
     "collapsed": false,
     "input": [
      "pointsGeo=os.path.join(\"WageningenPoints.geojson\")\n",
      "def html_map(pts):\n",
      "    map_points = folium.Map(location=[52,5.7],tiles='Mapbox Bright', zoom_start=10) \n",
      "    map_points.choropleth(geo_path=pointsGeo)    \n",
      "    map_points.save('WageningenPoints.html')\n",
      "    return(map_points)\n",
      "\n",
      "html_map(pts)"
     ],
     "language": "python",
     "metadata": {},
     "outputs": [
      {
       "ename": "IOError",
       "evalue": "[Errno 2] No such file or directory: 'WageningenPoints.geojson'",
       "output_type": "pyerr",
       "traceback": [
        "\u001b[0;31m---------------------------------------------------------------------------\u001b[0m\n\u001b[0;31mIOError\u001b[0m                                   Traceback (most recent call last)",
        "\u001b[0;32m<ipython-input-7-b7c38af88bc9>\u001b[0m in \u001b[0;36m<module>\u001b[0;34m()\u001b[0m\n\u001b[1;32m      6\u001b[0m     \u001b[0;32mreturn\u001b[0m\u001b[0;34m(\u001b[0m\u001b[0mmap_points\u001b[0m\u001b[0;34m)\u001b[0m\u001b[0;34m\u001b[0m\u001b[0m\n\u001b[1;32m      7\u001b[0m \u001b[0;34m\u001b[0m\u001b[0m\n\u001b[0;32m----> 8\u001b[0;31m \u001b[0mhtml_map\u001b[0m\u001b[0;34m(\u001b[0m\u001b[0mpts\u001b[0m\u001b[0;34m)\u001b[0m\u001b[0;34m\u001b[0m\u001b[0m\n\u001b[0m",
        "\u001b[0;32m<ipython-input-7-b7c38af88bc9>\u001b[0m in \u001b[0;36mhtml_map\u001b[0;34m(pts)\u001b[0m\n\u001b[1;32m      2\u001b[0m \u001b[0;32mdef\u001b[0m \u001b[0mhtml_map\u001b[0m\u001b[0;34m(\u001b[0m\u001b[0mpts\u001b[0m\u001b[0;34m)\u001b[0m\u001b[0;34m:\u001b[0m\u001b[0;34m\u001b[0m\u001b[0m\n\u001b[1;32m      3\u001b[0m     \u001b[0mmap_points\u001b[0m \u001b[0;34m=\u001b[0m \u001b[0mfolium\u001b[0m\u001b[0;34m.\u001b[0m\u001b[0mMap\u001b[0m\u001b[0;34m(\u001b[0m\u001b[0mlocation\u001b[0m\u001b[0;34m=\u001b[0m\u001b[0;34m[\u001b[0m\u001b[0;36m52\u001b[0m\u001b[0;34m,\u001b[0m\u001b[0;36m5.7\u001b[0m\u001b[0;34m]\u001b[0m\u001b[0;34m,\u001b[0m\u001b[0mtiles\u001b[0m\u001b[0;34m=\u001b[0m\u001b[0;34m'Mapbox Bright'\u001b[0m\u001b[0;34m,\u001b[0m \u001b[0mzoom_start\u001b[0m\u001b[0;34m=\u001b[0m\u001b[0;36m10\u001b[0m\u001b[0;34m)\u001b[0m\u001b[0;34m\u001b[0m\u001b[0m\n\u001b[0;32m----> 4\u001b[0;31m     \u001b[0mmap_points\u001b[0m\u001b[0;34m.\u001b[0m\u001b[0mchoropleth\u001b[0m\u001b[0;34m(\u001b[0m\u001b[0mgeo_path\u001b[0m\u001b[0;34m=\u001b[0m\u001b[0mpointsGeo\u001b[0m\u001b[0;34m)\u001b[0m\u001b[0;34m\u001b[0m\u001b[0m\n\u001b[0m\u001b[1;32m      5\u001b[0m     \u001b[0mmap_points\u001b[0m\u001b[0;34m.\u001b[0m\u001b[0msave\u001b[0m\u001b[0;34m(\u001b[0m\u001b[0;34m'WageningenPoints.html'\u001b[0m\u001b[0;34m)\u001b[0m\u001b[0;34m\u001b[0m\u001b[0m\n\u001b[1;32m      6\u001b[0m     \u001b[0;32mreturn\u001b[0m\u001b[0;34m(\u001b[0m\u001b[0mmap_points\u001b[0m\u001b[0;34m)\u001b[0m\u001b[0;34m\u001b[0m\u001b[0m\n",
        "\u001b[0;32m/usr/local/lib/python2.7/dist-packages/folium/folium.pyc\u001b[0m in \u001b[0;36mchoropleth\u001b[0;34m(self, geo_path, geo_str, data_out, data, columns, key_on, threshold_scale, fill_color, fill_opacity, line_color, line_weight, line_opacity, legend_name, topojson, reset)\u001b[0m\n\u001b[1;32m    604\u001b[0m         \u001b[0;31m# Create GeoJson object\u001b[0m\u001b[0;34m\u001b[0m\u001b[0;34m\u001b[0m\u001b[0m\n\u001b[1;32m    605\u001b[0m         \u001b[0;32mif\u001b[0m \u001b[0mgeo_path\u001b[0m\u001b[0;34m:\u001b[0m\u001b[0;34m\u001b[0m\u001b[0m\n\u001b[0;32m--> 606\u001b[0;31m             \u001b[0mgeo_data\u001b[0m \u001b[0;34m=\u001b[0m \u001b[0mopen\u001b[0m\u001b[0;34m(\u001b[0m\u001b[0mgeo_path\u001b[0m\u001b[0;34m)\u001b[0m\u001b[0;34m\u001b[0m\u001b[0m\n\u001b[0m\u001b[1;32m    607\u001b[0m         \u001b[0;32melif\u001b[0m \u001b[0mgeo_str\u001b[0m\u001b[0;34m:\u001b[0m\u001b[0;34m\u001b[0m\u001b[0m\n\u001b[1;32m    608\u001b[0m             \u001b[0mgeo_data\u001b[0m \u001b[0;34m=\u001b[0m \u001b[0mgeo_str\u001b[0m\u001b[0;34m\u001b[0m\u001b[0m\n",
        "\u001b[0;31mIOError\u001b[0m: [Errno 2] No such file or directory: 'WageningenPoints.geojson'"
       ]
      }
     ],
     "prompt_number": 7
    },
    {
     "cell_type": "code",
     "collapsed": false,
     "input": [],
     "language": "python",
     "metadata": {},
     "outputs": []
    }
   ],
   "metadata": {}
  }
 ]
}